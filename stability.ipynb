{
 "cells": [
  {
   "cell_type": "code",
   "execution_count": 1,
   "metadata": {},
   "outputs": [],
   "source": [
    "import numpy as np \n",
    "import matplotlib.pyplot as plt\n",
    "from scipy.integrate import solve_ivp\n",
    "import ModelLib\n"
   ]
  },
  {
   "cell_type": "code",
   "execution_count": 2,
   "metadata": {},
   "outputs": [
    {
     "name": "stderr",
     "output_type": "stream",
     "text": [
      "/Users/simonblaue/Desktop/Epidemics_SRI_model/ModelLib.py:18: RuntimeWarning: overflow encountered in exp\n",
      "  self.P = lambda H: self.p_base+(1-self.p_base)/self.p_cap*self.epsilon*np.log(1+np.exp(1/self.epsilon*(self.p_cap-H)))\n"
     ]
    }
   ],
   "source": [
    "model = ModelLib.SIRModels()"
   ]
  },
  {
   "cell_type": "code",
   "execution_count": 3,
   "metadata": {},
   "outputs": [],
   "source": [
    "Ts=np.arange(1,40,1)\n",
    "p_bases = np.arange(0.01,0.25,0.01)\n",
    "Stable = []\n",
    "for T in Ts:\n",
    "    for p_base in p_bases:\n",
    "        model.T = T\n",
    "        model.p_base = p_base\n",
    "        model.Fix = model.FindFixpoint(model.MemoryIncrementForStability)\n",
    "        Jacobi = model.JacobiMemory(model.Fix)\n",
    "        w = np.linalg.eigvals(Jacobi)\n",
    "        w_real=np.real(w)\n",
    "        max = np.max(w_real)\n",
    "        if max>0:\n",
    "            Stable.append(0)\n",
    "\n",
    "Stable = np.array(Stable).reshape(len(p_bases), len(Ts))\n",
    "im = plt.imshow(Stable,vmin=0,vmax=1,extent=[p_bases.min(),p_bases.max(),Ts.min(),Ts.max()],aspect='auto')\n",
    "plt.colorbar(im)\n",
    "plt.title('Stability Diagramm', fontweight =\"bold\")\n",
    "plt.show()\n"
   ]
  },
  {
   "cell_type": "code",
   "execution_count": null,
   "metadata": {},
   "outputs": [],
   "source": []
  }
 ],
 "metadata": {
  "kernelspec": {
   "display_name": "Python 3.9.10 ('base')",
   "language": "python",
   "name": "python3"
  },
  "language_info": {
   "codemirror_mode": {
    "name": "ipython",
    "version": 3
   },
   "file_extension": ".py",
   "mimetype": "text/x-python",
   "name": "python",
   "nbconvert_exporter": "python",
   "pygments_lexer": "ipython3",
   "version": "3.9.10"
  },
  "orig_nbformat": 4,
  "vscode": {
   "interpreter": {
    "hash": "c6e4e9f98eb68ad3b7c296f83d20e6de614cb42e90992a65aa266555a3137d0d"
   }
  }
 },
 "nbformat": 4,
 "nbformat_minor": 2
}
