{
 "cells": [
  {
   "cell_type": "code",
   "execution_count": 1,
   "metadata": {},
   "outputs": [],
   "source": [
    "import numpy as np \n",
    "import matplotlib.pyplot as plt\n",
    "from scipy.integrate import solve_ivp\n",
    "import ModelLib"
   ]
  },
  {
   "cell_type": "code",
   "execution_count": 2,
   "metadata": {},
   "outputs": [],
   "source": [
    "t_max = 100\n",
    "beta_0 = 0.5\n",
    "gamma =  0.1\n",
    "nu =  1/1000\n",
    "model = ModelLib.SIRModels()"
   ]
  },
  {
   "cell_type": "code",
   "execution_count": 6,
   "metadata": {},
   "outputs": [],
   "source": [
    "solve_dict  = solve_ivp(model.ClassicIncrement, [0,100], [0.99,0.1,0.0])\n"
   ]
  },
  {
   "cell_type": "code",
   "execution_count": 14,
   "metadata": {},
   "outputs": [
    {
     "name": "stdout",
     "output_type": "stream",
     "text": [
      "  message: 'The solver successfully reached the end of the integration interval.'\n",
      "     nfev: 104\n",
      "     njev: 0\n",
      "      nlu: 0\n",
      "      sol: None\n",
      "   status: 0\n",
      "  success: True\n",
      "        t: array([0.00000000e+00, 7.04116739e-02, 7.74528412e-01, 3.52747833e+00,\n",
      "       7.58297449e+00, 1.19760726e+01, 1.60214782e+01, 2.07136486e+01,\n",
      "       2.78727112e+01, 3.76098526e+01, 4.73469939e+01, 5.74056556e+01,\n",
      "       6.74778367e+01, 7.76988495e+01, 8.82927593e+01, 9.96988436e+01,\n",
      "       1.00000000e+02])\n",
      " t_events: None\n",
      "        y: array([[9.90000000e-01, 9.86472075e-01, 9.46272075e-01, 6.97755750e-01,\n",
      "        2.72711472e-01, 7.93602867e-02, 3.21180745e-02, 1.55111611e-02,\n",
      "        8.14127324e-03, 5.50313068e-03, 4.71599497e-03, 4.43676702e-03,\n",
      "        4.33633789e-03, 4.29906380e-03, 4.28513349e-03, 4.27999140e-03,\n",
      "        4.27991841e-03],\n",
      "       [1.00000000e-01, 1.02813940e-01, 1.34692965e-01, 3.22302865e-01,\n",
      "        5.59709813e-01, 5.10087017e-01, 3.77711474e-01, 2.48932115e-01,\n",
      "        1.26527383e-01, 4.93264656e-02, 1.91050403e-02, 7.15640332e-03,\n",
      "        2.67492952e-03, 9.85207318e-04, 3.49950970e-04, 1.14937078e-04,\n",
      "        1.11599175e-04],\n",
      "       [0.00000000e+00, 7.13985020e-04, 9.03496005e-03, 6.99413850e-02,\n",
      "        2.57578715e-01, 5.00552696e-01, 6.80170451e-01, 8.25556724e-01,\n",
      "        9.55331344e-01, 1.03517040e+00, 1.06617896e+00, 1.07840683e+00,\n",
      "        1.08298873e+00, 1.08471573e+00, 1.08536492e+00, 1.08560507e+00,\n",
      "        1.08560848e+00]])\n",
      " y_events: None\n"
     ]
    },
    {
     "data": {
      "text/plain": [
       "[<matplotlib.lines.Line2D at 0x14cf4ee20>]"
      ]
     },
     "execution_count": 14,
     "metadata": {},
     "output_type": "execute_result"
    },
    {
     "data": {
      "image/png": "[encoded data removed]",
      "text/plain": [
       "<Figure size 432x288 with 1 Axes>"
      ]
     },
     "metadata": {
      "needs_background": "light"
     },
     "output_type": "display_data"
    }
   ],
   "source": [
    "#print((solve_dict))\n",
    "plt.plot(solve_dict.t, solve_dict.y[0,:])"
   ]
  },
  {
   "cell_type": "code",
   "execution_count": null,
   "metadata": {},
   "outputs": [],
   "source": []
  }
 ],
 "metadata": {
  "kernelspec": {
   "display_name": "Python 3.9.10 ('base')",
   "language": "python",
   "name": "python3"
  },
  "language_info": {
   "codemirror_mode": {
    "name": "ipython",
    "version": 3
   },
   "file_extension": ".py",
   "mimetype": "text/x-python",
   "name": "python",
   "nbconvert_exporter": "python",
   "pygments_lexer": "ipython3",
   "version": "3.9.10"
  },
  "orig_nbformat": 4,
  "vscode": {
   "interpreter": {
    "hash": "c6e4e9f98eb68ad3b7c296f83d20e6de614cb42e90992a65aa266555a3137d0d"
   }
  }
 },
 "nbformat": 4,
 "nbformat_minor": 2
}
